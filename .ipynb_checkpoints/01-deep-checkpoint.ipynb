{
 "cells": [
  {
   "cell_type": "code",
   "execution_count": 1,
   "metadata": {
    "ExecuteTime": {
     "end_time": "2024-02-01T18:51:03.630484600Z",
     "start_time": "2024-02-01T18:51:01.474180Z"
    }
   },
   "outputs": [
    {
     "name": "stdout",
     "output_type": "stream",
     "text": [
      "Requirement already satisfied: gym in c:\\users\\mmust\\anaconda3\\envs\\torch\\lib\\site-packages (0.26.2)\n",
      "Requirement already satisfied: stable-baselines3 in c:\\users\\mmust\\anaconda3\\envs\\torch\\lib\\site-packages (2.2.1)\n",
      "Requirement already satisfied: torch in c:\\users\\mmust\\anaconda3\\envs\\torch\\lib\\site-packages (2.2.0)\n",
      "Requirement already satisfied: numpy>=1.18.0 in c:\\users\\mmust\\anaconda3\\envs\\torch\\lib\\site-packages (from gym) (1.26.3)\n",
      "Requirement already satisfied: cloudpickle>=1.2.0 in c:\\users\\mmust\\anaconda3\\envs\\torch\\lib\\site-packages (from gym) (3.0.0)\n",
      "Requirement already satisfied: gym-notices>=0.0.4 in c:\\users\\mmust\\anaconda3\\envs\\torch\\lib\\site-packages (from gym) (0.0.8)\n",
      "Requirement already satisfied: gymnasium<0.30,>=0.28.1 in c:\\users\\mmust\\anaconda3\\envs\\torch\\lib\\site-packages (from stable-baselines3) (0.29.1)\n",
      "Requirement already satisfied: pandas in c:\\users\\mmust\\anaconda3\\envs\\torch\\lib\\site-packages (from stable-baselines3) (2.2.0)\n",
      "Requirement already satisfied: matplotlib in c:\\users\\mmust\\anaconda3\\envs\\torch\\lib\\site-packages (from stable-baselines3) (3.8.2)\n",
      "Requirement already satisfied: filelock in c:\\users\\mmust\\anaconda3\\envs\\torch\\lib\\site-packages (from torch) (3.13.1)\n",
      "Requirement already satisfied: typing-extensions>=4.8.0 in c:\\users\\mmust\\anaconda3\\envs\\torch\\lib\\site-packages (from torch) (4.9.0)\n",
      "Requirement already satisfied: sympy in c:\\users\\mmust\\anaconda3\\envs\\torch\\lib\\site-packages (from torch) (1.12)\n",
      "Requirement already satisfied: networkx in c:\\users\\mmust\\anaconda3\\envs\\torch\\lib\\site-packages (from torch) (3.2.1)\n",
      "Requirement already satisfied: jinja2 in c:\\users\\mmust\\anaconda3\\envs\\torch\\lib\\site-packages (from torch) (3.1.3)\n",
      "Requirement already satisfied: fsspec in c:\\users\\mmust\\anaconda3\\envs\\torch\\lib\\site-packages (from torch) (2023.12.2)\n",
      "Requirement already satisfied: farama-notifications>=0.0.1 in c:\\users\\mmust\\anaconda3\\envs\\torch\\lib\\site-packages (from gymnasium<0.30,>=0.28.1->stable-baselines3) (0.0.4)\n",
      "Requirement already satisfied: MarkupSafe>=2.0 in c:\\users\\mmust\\anaconda3\\envs\\torch\\lib\\site-packages (from jinja2->torch) (2.1.4)\n",
      "Requirement already satisfied: contourpy>=1.0.1 in c:\\users\\mmust\\anaconda3\\envs\\torch\\lib\\site-packages (from matplotlib->stable-baselines3) (1.2.0)\n",
      "Requirement already satisfied: cycler>=0.10 in c:\\users\\mmust\\anaconda3\\envs\\torch\\lib\\site-packages (from matplotlib->stable-baselines3) (0.12.1)\n",
      "Requirement already satisfied: fonttools>=4.22.0 in c:\\users\\mmust\\anaconda3\\envs\\torch\\lib\\site-packages (from matplotlib->stable-baselines3) (4.47.2)\n",
      "Requirement already satisfied: kiwisolver>=1.3.1 in c:\\users\\mmust\\anaconda3\\envs\\torch\\lib\\site-packages (from matplotlib->stable-baselines3) (1.4.5)\n",
      "Requirement already satisfied: packaging>=20.0 in c:\\users\\mmust\\anaconda3\\envs\\torch\\lib\\site-packages (from matplotlib->stable-baselines3) (23.2)\n",
      "Requirement already satisfied: pillow>=8 in c:\\users\\mmust\\anaconda3\\envs\\torch\\lib\\site-packages (from matplotlib->stable-baselines3) (10.2.0)\n",
      "Requirement already satisfied: pyparsing>=2.3.1 in c:\\users\\mmust\\anaconda3\\envs\\torch\\lib\\site-packages (from matplotlib->stable-baselines3) (3.1.1)\n",
      "Requirement already satisfied: python-dateutil>=2.7 in c:\\users\\mmust\\anaconda3\\envs\\torch\\lib\\site-packages (from matplotlib->stable-baselines3) (2.8.2)\n",
      "Requirement already satisfied: pytz>=2020.1 in c:\\users\\mmust\\anaconda3\\envs\\torch\\lib\\site-packages (from pandas->stable-baselines3) (2023.4)\n",
      "Requirement already satisfied: tzdata>=2022.7 in c:\\users\\mmust\\anaconda3\\envs\\torch\\lib\\site-packages (from pandas->stable-baselines3) (2023.4)\n",
      "Requirement already satisfied: mpmath>=0.19 in c:\\users\\mmust\\anaconda3\\envs\\torch\\lib\\site-packages (from sympy->torch) (1.3.0)\n",
      "Requirement already satisfied: six>=1.5 in c:\\users\\mmust\\anaconda3\\envs\\torch\\lib\\site-packages (from python-dateutil>=2.7->matplotlib->stable-baselines3) (1.16.0)\n",
      "Note: you may need to restart the kernel to use updated packages.\n"
     ]
    }
   ],
   "source": [
    "%pip install gym stable-baselines3 torch\n"
   ]
  },
  {
   "cell_type": "code",
   "execution_count": 2,
   "metadata": {
    "ExecuteTime": {
     "end_time": "2024-02-01T18:51:05.995315700Z",
     "start_time": "2024-02-01T18:51:03.629443700Z"
    }
   },
   "outputs": [],
   "source": [
    "import gym\n",
    "from stable_baselines3 import PPO\n",
    "from stable_baselines3.common.vec_env import DummyVecEnv\n",
    "from stable_baselines3.common.evaluation import evaluate_policy\n"
   ]
  },
  {
   "cell_type": "code",
   "execution_count": 3,
   "metadata": {
    "ExecuteTime": {
     "end_time": "2024-02-01T18:51:06.005551Z",
     "start_time": "2024-02-01T18:51:05.996318Z"
    }
   },
   "outputs": [
    {
     "name": "stderr",
     "output_type": "stream",
     "text": [
      "C:\\Users\\mmust\\anaconda3\\envs\\torch\\Lib\\site-packages\\stable_baselines3\\common\\vec_env\\patch_gym.py:49: UserWarning: You provided an OpenAI Gym environment. We strongly recommend transitioning to Gymnasium environments. Stable-Baselines3 is automatically wrapping your environments in a compatibility layer, which could potentially cause issues.\n",
      "  warnings.warn(\n"
     ]
    }
   ],
   "source": [
    "env_name = \"CartPole-v1\"\n",
    "env = gym.make(env_name)\n",
    "env = DummyVecEnv([lambda: env])  # Wrap the environment\n"
   ]
  },
  {
   "cell_type": "code",
   "execution_count": 4,
   "metadata": {
    "ExecuteTime": {
     "end_time": "2024-02-01T18:51:06.880699100Z",
     "start_time": "2024-02-01T18:51:06.007741400Z"
    }
   },
   "outputs": [],
   "source": [
    "model = PPO(\"MlpPolicy\", env, verbose=0)\n"
   ]
  },
  {
   "cell_type": "code",
   "execution_count": null,
   "metadata": {
    "is_executing": true,
    "ExecuteTime": {
     "start_time": "2024-02-01T18:51:06.881713500Z"
    }
   },
   "outputs": [
    {
     "name": "stderr",
     "output_type": "stream",
     "text": [
      "C:\\Users\\mmust\\anaconda3\\envs\\torch\\Lib\\site-packages\\gym\\utils\\passive_env_checker.py:233: DeprecationWarning: `np.bool8` is a deprecated alias for `np.bool_`.  (Deprecated NumPy 1.24)\n",
      "  if not isinstance(terminated, (bool, np.bool8)):\n"
     ]
    }
   ],
   "source": [
    "model.learn(total_timesteps=20000)\n"
   ]
  },
  {
   "cell_type": "code",
   "execution_count": null,
   "metadata": {
    "is_executing": true
   },
   "outputs": [],
   "source": [
    "mean_reward, std_reward = evaluate_policy(model, model.get_env(), n_eval_episodes=10)\n",
    "print(f\"Mean reward: {mean_reward} +/- {std_reward}\")\n"
   ]
  },
  {
   "cell_type": "code",
   "execution_count": null,
   "metadata": {
    "is_executing": true
   },
   "outputs": [],
   "source": [
    "obs = env.reset()\n",
    "for i in range(1000):\n",
    "    action, _states = model.predict(obs, deterministic=True)\n",
    "    obs, rewards, dones, info = env.step(action)\n",
    "    # env.render()  # Uncomment this if you want to visualize the game (might not work in all Jupyter setups)\n",
    "    if dones:\n",
    "        obs = env.reset()\n"
   ]
  },
  {
   "cell_type": "code",
   "execution_count": null,
   "metadata": {
    "is_executing": true
   },
   "outputs": [],
   "source": [
    "#env.close()\n"
   ]
  }
 ],
 "metadata": {
  "kernelspec": {
   "display_name": "torch",
   "language": "python",
   "name": "python3"
  },
  "language_info": {
   "codemirror_mode": {
    "name": "ipython",
    "version": 3
   },
   "file_extension": ".py",
   "mimetype": "text/x-python",
   "name": "python",
   "nbconvert_exporter": "python",
   "pygments_lexer": "ipython3",
   "version": "3.11.7"
  }
 },
 "nbformat": 4,
 "nbformat_minor": 2
}
